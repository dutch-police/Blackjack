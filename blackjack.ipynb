{
 "cells": [
  {
   "cell_type": "markdown",
   "metadata": {},
   "source": [
    "# Управление методом Монте-Карло. Исследовательские старты"
   ]
  },
  {
   "cell_type": "markdown",
   "metadata": {},
   "source": [
    "Ричард С. Саттон, Эндрю Дж. Барто Обучение с подкреплением, 2020"
   ]
  },
  {
   "cell_type": "code",
   "execution_count": 24,
   "metadata": {},
   "outputs": [],
   "source": [
    "import random"
   ]
  },
  {
   "cell_type": "code",
   "execution_count": 25,
   "metadata": {},
   "outputs": [],
   "source": [
    "points = range(12, 22) # Текущая сумма очков от 12 до 21\n",
    "dealer_card = [2, 3, 4, 5, 6, 7, 8, 9, 10, None] # Открытая карта диллера, Играющий туз - 10-й вариант\n",
    "playing_ace = [0, 1] # Наличие играющего туза\n",
    "states = [[i,j,k] for i in points\n",
    "                for j in dealer_card \n",
    "                for k in playing_ace] # Состояния в итоге, должно получиться 200 состояний"
   ]
  },
  {
   "cell_type": "code",
   "execution_count": 26,
   "metadata": {},
   "outputs": [
    {
     "data": {
      "text/plain": [
       "200"
      ]
     },
     "execution_count": 26,
     "metadata": {},
     "output_type": "execute_result"
    }
   ],
   "source": [
    "len(states)"
   ]
  },
  {
   "cell_type": "code",
   "execution_count": 27,
   "metadata": {},
   "outputs": [],
   "source": [
    "random.seed(555)"
   ]
  },
  {
   "cell_type": "code",
   "execution_count": 28,
   "metadata": {},
   "outputs": [],
   "source": [
    "def get_card(cards, player_cards):\n",
    "    i = random.randrange(len(cards))\n",
    "    card = cards[i]\n",
    "    del cards[i]\n",
    "    if card is None:\n",
    "        if sum(player_cards) == 11:\n",
    "            card = 1\n",
    "        else:\n",
    "            card = 11\n",
    "    player_cards.append(card)"
   ]
  },
  {
   "cell_type": "code",
   "execution_count": 29,
   "metadata": {},
   "outputs": [],
   "source": [
    "def run_episode():\n",
    "    # Список ходов - описание игры (\"эпизода\") см. Р. С. Саттон, Э. Д. Барто Обучение с подкреплением с. 125\n",
    "    # Каждый элемент:\n",
    "    # 1) S Состояние - строка '%сумма очков%%открытая карта сдающего%%наличие играющего туза%'\n",
    "    # 2) А - действие 1 - еще, 0 - хватит\n",
    "    # 3) R - вознагражение - на всех шагах кроме последнего 0, 1 если выигрыш, 0 если ничья, -1 если проигрыш\n",
    "    episode = []\n",
    "\n",
    "    # Собираем колоду\n",
    "    cards = [2, 3, 4, 5, 6, 7, 8, 9, 10,\n",
    "             None, # Туз\n",
    "             10,   # Валет\n",
    "             10,   # Дама\n",
    "             10]   # Король\n",
    "    cards = cards*4\n",
    "    random.shuffle(cards)\n",
    "    dealer_cards, player_cards, cards = cards[:2], cards[2:4], cards[4:]\n",
    "    dealer_open_card = random.choice(dealer_cards)\n",
    "    if_has_play_ace = 0\n",
    "\n",
    "    # В начале партии разбираемся с играющими тузами\n",
    "    if (dealer_cards[0] is None) and (dealer_cards[1] is None):\n",
    "        dealer_cards[0] = 11\n",
    "        dealer_cards[1] = 1\n",
    "    else:\n",
    "        if dealer_cards[0] is None:\n",
    "            dealer_cards[0] = 11\n",
    "        if dealer_cards[1] is None:\n",
    "            dealer_cards[1] = 11\n",
    "\n",
    "    if (player_cards[0] is None) and (player_cards[1] is None):\n",
    "        player_cards[0] = 11\n",
    "        player_cards[1] = 1\n",
    "        if_has_play_ace = 1\n",
    "    else:\n",
    "        if player_cards[0] is None:\n",
    "            player_cards[0] = 11\n",
    "            if_has_play_ace = 1\n",
    "        if player_cards[1] is None:\n",
    "            player_cards[1] = 11\n",
    "            if_has_play_ace = 1\n",
    "\n",
    "    # Набираем до 12 так как счет суммы очков имеет смысл вести с 12\n",
    "    while True:\n",
    "        if sum(player_cards)>=12:\n",
    "            break\n",
    "        get_card(cards, player_cards)\n",
    "\n",
    "    A = 1 # Текущее действие игрока\n",
    "    R = 0 # Выигрыш всегда на каждом шаге 0 (кроме последнего)\n",
    "\n",
    "    d_sum = sum(dealer_cards)\n",
    "    p_sum = sum(player_cards)\n",
    "\n",
    "    while True:\n",
    "        if A == 1:\n",
    "            # Добавляем ход в эпизод (игру)\n",
    "            S = '|'.join([str(p_sum), str(dealer_open_card), str(if_has_play_ace)])\n",
    "            episode.append([S,A,R])\n",
    "\n",
    "        if A == 1:\n",
    "            if ((d_sum == 21) and (p_sum == 21)):\n",
    "                break\n",
    "            if (d_sum == 21):\n",
    "                episode[-1][2] = -1\n",
    "                break\n",
    "        elif A == 0:\n",
    "            if (d_sum >= 17):\n",
    "                if (d_sum > p_sum):\n",
    "                    episode[-1][2] = -1\n",
    "                    break\n",
    "                if (d_sum < p_sum):\n",
    "                    episode[-1][2] = 1\n",
    "                    break\n",
    "                if (d_sum == p_sum):\n",
    "                    break\n",
    "            else:\n",
    "                if (d_sum > p_sum):\n",
    "                    episode[-1][2] = -1\n",
    "                    break\n",
    "\n",
    "        # Ход игрока стратегия хватит или дальше\n",
    "        if A == 1:\n",
    "            A = random.choice([0, 1])\n",
    "\n",
    "        if A == 1:\n",
    "            get_card(cards, player_cards)\n",
    "            p_sum = sum(player_cards)\n",
    "            if p_sum > 21:\n",
    "                episode[-1][2] = -1\n",
    "                break\n",
    "\n",
    "        if A == 0:\n",
    "            get_card(cards, dealer_cards)  \n",
    "            d_sum = sum(dealer_cards)\n",
    "            if d_sum > 21:\n",
    "                episode[-1][2] = 1\n",
    "                break\n",
    "    \n",
    "    return episode"
   ]
  },
  {
   "cell_type": "code",
   "execution_count": 30,
   "metadata": {},
   "outputs": [],
   "source": [
    "episodes = []\n",
    "N = 2000000"
   ]
  },
  {
   "cell_type": "code",
   "execution_count": 31,
   "metadata": {},
   "outputs": [],
   "source": [
    "for i in range(N):\n",
    "    episodes.append(run_episode())"
   ]
  },
  {
   "cell_type": "code",
   "execution_count": 32,
   "metadata": {},
   "outputs": [],
   "source": [
    "# Итоговые стратегии для состояний\n",
    "strategies = {}\n",
    "# Заполняем начальные стратегии\n",
    "for points in range(12, 22):\n",
    "    for open_card in [2, 3, 4, 5, 6, 7, 8, 9, 10, None]:\n",
    "        for playing_ace in [0, 1]:\n",
    "            S = '|'.join([str(points), str(open_card), str(playing_ace)])\n",
    "            if points in (20, 21):\n",
    "                strategies[S] = 0\n",
    "            else:\n",
    "                strategies[S] = 1"
   ]
  },
  {
   "cell_type": "code",
   "execution_count": 33,
   "metadata": {},
   "outputs": [],
   "source": [
    "# Функции ценностей и Returns для всех пар состояние-действие\n",
    "values, rets = {}, {}\n",
    "# Заполняем начальные ценности и Returns\n",
    "for points in range(12, 22):\n",
    "    for open_card in [2, 3, 4, 5, 6, 7, 8, 9, 10, None]:\n",
    "        for playing_ace in [0, 1]:\n",
    "            S = '|'.join([str(points), str(open_card), str(playing_ace)])\n",
    "            for action in [0, 1]:\n",
    "                key = '|'.join([S, str(action)])\n",
    "                values[key] = 0.0\n",
    "                rets[key] = []"
   ]
  },
  {
   "cell_type": "code",
   "execution_count": 34,
   "metadata": {},
   "outputs": [],
   "source": [
    "def avg_lst(lst):\n",
    "    return sum(lst) / float(len(lst))"
   ]
  },
  {
   "cell_type": "code",
   "execution_count": 35,
   "metadata": {},
   "outputs": [],
   "source": [
    "for episode in episodes:\n",
    "    # МК метод первого посещения\n",
    "    visited = []\n",
    "    for step in episode:\n",
    "        visited_key = ''.join([step[0], str(step[1]), str(step[2])])\n",
    "        if visited_key in visited:\n",
    "            continue\n",
    "        visited.append(visited_key)\n",
    "        key = '|'.join([step[0], str(step[1])])\n",
    "        rets[key].append(step[2])\n",
    "        values[key] = avg_lst(rets[key])\n",
    "        \n",
    "        # Выбор оптимальной стратегии\n",
    "        sk1, sk0 = '|'.join([step[0],str(1)]), '|'.join([step[0],str(0)])\n",
    "        \n",
    "        if values[sk1] > values[sk0]:\n",
    "            strategies[step[0]] = 1\n",
    "        else:\n",
    "            strategies[step[0]] = 0"
   ]
  },
  {
   "cell_type": "code",
   "execution_count": null,
   "metadata": {},
   "outputs": [],
   "source": []
  },
  {
   "cell_type": "code",
   "execution_count": 36,
   "metadata": {},
   "outputs": [],
   "source": [
    "strategies_ace_points = []\n",
    "strategies_ace_dealer_card = []\n",
    "strategies_actions = []\n",
    "for k in strategies.keys():\n",
    "    if_ace = int(k[-1])\n",
    "    ind = k.find('|')\n",
    "    points = int(k[:ind])\n",
    "    ind2 = k.find('|',(ind+1))\n",
    "    dealer_card = k[(ind+1):ind2]\n",
    "    if dealer_card == 'None':\n",
    "        dealer_card = 11\n",
    "    else:\n",
    "        dealer_card = int(dealer_card)\n",
    "    if (if_ace == 1):\n",
    "        strategies_ace_points.append(points)\n",
    "        strategies_ace_dealer_card.append(dealer_card)\n",
    "        strategies_actions.append(strategies[k])"
   ]
  },
  {
   "cell_type": "code",
   "execution_count": 37,
   "metadata": {},
   "outputs": [
    {
     "data": {
      "image/png": "[encoded data removed]",
      "text/plain": [
       "<Figure size 432x288 with 2 Axes>"
      ]
     },
     "metadata": {
      "needs_background": "light"
     },
     "output_type": "display_data"
    }
   ],
   "source": [
    "import pandas as pd\n",
    "import seaborn as sns\n",
    "import matplotlib.pyplot as plt\n",
    "data = pd.DataFrame(data={'strategies_ace_points':strategies_ace_points,\n",
    "                          'strategies_ace_dealer_card':strategies_ace_dealer_card, \n",
    "                           'strategies_actions':strategies_actions})\n",
    "data = data.pivot(columns='strategies_ace_dealer_card', index='strategies_ace_points', values='strategies_actions')\n",
    "ax = sns.heatmap(data, cmap=\"Blues\")\n",
    "ax.invert_yaxis()"
   ]
  },
  {
   "cell_type": "markdown",
   "metadata": {},
   "source": [
    "# Вторая версия"
   ]
  },
  {
   "cell_type": "markdown",
   "metadata": {},
   "source": [
    "https://github.com/sgodwincs/blackjack-monte-carlo-es/blob/master/python/blackjack.py"
   ]
  },
  {
   "cell_type": "code",
   "execution_count": 23,
   "metadata": {},
   "outputs": [
    {
     "data": {
      "image/png": "[encoded data removed]",
      "text/plain": [
       "<Figure size 432x288 with 1 Axes>"
      ]
     },
     "metadata": {
      "needs_background": "light"
     },
     "output_type": "display_data"
    },
    {
     "data": {
      "image/png": "[encoded data removed]",
      "text/plain": [
       "<Figure size 432x288 with 1 Axes>"
      ]
     },
     "metadata": {
      "needs_background": "light"
     },
     "output_type": "display_data"
    }
   ],
   "source": [
    "import numpy as np\n",
    "import matplotlib.pyplot as plt\n",
    "\n",
    "class Player(object):\n",
    "    def __init__(self, currentSum, usableAce, dealersCard):\n",
    "        self.currentSum = currentSum\n",
    "        self.dealersCard = dealersCard\n",
    "        self.usableAce = usableAce\n",
    "        self.usingAce = self.usableAce\n",
    "\n",
    "    def AddCard(self, card):\n",
    "        if self.usingAce and self.currentSum + card > 21:\n",
    "            self.usingAce = False\n",
    "            self.currentSum += card - 10\n",
    "        else:\n",
    "            self.currentSum += card\n",
    "\n",
    "    def Bust(self):\n",
    "        return self.GetValue() > 21\n",
    "\n",
    "    def GetState(self):\n",
    "        return (self.currentSum, self.usableAce, self.dealersCard)\n",
    "\n",
    "    def GetValue(self):\n",
    "        return self.currentSum\n",
    "\n",
    "    def ShouldHit(self, policyMap):\n",
    "        return policyMap[self.GetState()]\n",
    "\n",
    "class Dealer(object):\n",
    "    def __init__(self, cards):\n",
    "        self.cards = cards\n",
    "\n",
    "    def AddCard(self, card):\n",
    "        self.cards.append(card)\n",
    "\n",
    "    def Bust(self):\n",
    "        return self.GetValue() > 21\n",
    "\n",
    "    def GetValue(self):\n",
    "        currentSum = 0\n",
    "        aceCount = 0\n",
    "\n",
    "        for card in self.cards:\n",
    "            if card == 1:\n",
    "                aceCount += 1\n",
    "            else:\n",
    "                currentSum += card\n",
    "\n",
    "        while aceCount > 0:\n",
    "            aceCount -= 1\n",
    "            currentSum += 11\n",
    "\n",
    "            if currentSum > 21:\n",
    "                aceCount += 1\n",
    "                currentSum -= 11\n",
    "                currentSum += aceCount\n",
    "                break\n",
    "\n",
    "        return currentSum\n",
    "\n",
    "    def ShouldHit(self):\n",
    "        if self.GetValue() >= 17:\n",
    "            return False\n",
    "        else:\n",
    "            return True\n",
    "\n",
    "class StateActionInfo(object):\n",
    "    def __init__(self):\n",
    "        self.stateActionPairs = [ ]\n",
    "        self.stateActionMap = set()\n",
    "\n",
    "    def AddPair(self, pair):\n",
    "        if pair in self.stateActionMap:\n",
    "            return\n",
    "\n",
    "        self.stateActionPairs.append(pair)\n",
    "        self.stateActionMap.add(pair)\n",
    "\n",
    "def EvaluateAndImprovePolicy(actionValueMap, policyMap, returns, stateActionPairs, reward):\n",
    "    for pair in stateActionPairs:\n",
    "        returns[pair] += 1\n",
    "        actionValueMap[pair] = actionValueMap[pair] + ((reward - actionValueMap[pair]) / returns[pair])\n",
    "\n",
    "        state = pair[0]\n",
    "        shouldHit = False\n",
    "\n",
    "        if actionValueMap[(state, True)] > actionValueMap[(state, False)]:\n",
    "            shouldHit = True\n",
    "\n",
    "        policyMap[state] = shouldHit\n",
    "\n",
    "def GenerateCard():\n",
    "    card = np.random.randint(1, 14)\n",
    "\n",
    "    if card > 9:\n",
    "        return 10\n",
    "    else:\n",
    "        return card\n",
    "\n",
    "def GenerateStart(actionValueMap, policyMap, returns):\n",
    "    playerSum = np.random.randint(11, 22)\n",
    "    usableAce = bool(np.random.randint(0, 2))\n",
    "    dealersCard1 = np.random.randint(1, 11)\n",
    "\n",
    "    player = Player(playerSum, usableAce, dealersCard1)\n",
    "    dealer = Dealer([ dealersCard1 ])\n",
    "\n",
    "    stateActionInfo = StateActionInfo()\n",
    "    shouldHit = bool(np.random.randint(0, 2))\n",
    "    stateActionInfo.AddPair((player.GetState(), shouldHit))\n",
    "\n",
    "    if shouldHit:\n",
    "        player.AddCard(GenerateCard())\n",
    "\n",
    "        while not player.Bust() and player.ShouldHit(policyMap):\n",
    "            stateActionInfo.AddPair((player.GetState(), True))\n",
    "            player.AddCard(GenerateCard())\n",
    "\n",
    "    if player.Bust():\n",
    "        EvaluateAndImprovePolicy(actionValueMap, policyMap, returns, stateActionInfo.stateActionPairs, -1)\n",
    "        return\n",
    "\n",
    "    stateActionInfo.AddPair((player.GetState(), False))\n",
    "    dealer.AddCard(GenerateCard())\n",
    "\n",
    "    while not dealer.Bust() and dealer.ShouldHit():\n",
    "        dealer.cards.append(GenerateCard())\n",
    "\n",
    "    if dealer.Bust() or dealer.GetValue() < player.GetValue():\n",
    "        EvaluateAndImprovePolicy(actionValueMap, policyMap, returns, stateActionInfo.stateActionPairs, 1)\n",
    "    elif dealer.GetValue() > player.GetValue():\n",
    "        EvaluateAndImprovePolicy(actionValueMap, policyMap, returns, stateActionInfo.stateActionPairs, -1)\n",
    "    else:\n",
    "        EvaluateAndImprovePolicy(actionValueMap, policyMap, returns, stateActionInfo.stateActionPairs, 0)\n",
    "\n",
    "\n",
    "def PerformMonteCarloES():\n",
    "    actionValueMap = { }\n",
    "    policyMap = { }\n",
    "    returns = { }\n",
    "\n",
    "    for playerSum in range(11, 22):\n",
    "        for usableAce in range(2):\n",
    "            for dealersCard in range(1, 11):\n",
    "                playerState = (playerSum, bool(usableAce), dealersCard)\n",
    "                actionValueMap[(playerState, False)] = 0\n",
    "                actionValueMap[(playerState, True)] = 0\n",
    "                returns[(playerState, False)] = 0\n",
    "                returns[(playerState, True)] = 0\n",
    "\n",
    "                if playerSum == 20 or playerSum == 21:\n",
    "                    policyMap[playerState] = False\n",
    "                else:\n",
    "                    policyMap[playerState] = True\n",
    "\n",
    "    for i in range(2000000):\n",
    "        GenerateStart(actionValueMap, policyMap, returns)\n",
    "\n",
    "    x11 = [ ]\n",
    "    y11 = [ ]\n",
    "\n",
    "    x12 = [ ]\n",
    "    y12 = [ ]\n",
    "\n",
    "    x21 = [ ]\n",
    "    y21 = [ ]\n",
    "\n",
    "    x22 = [ ]\n",
    "    y22 = [ ]\n",
    "\n",
    "    for playerState in policyMap:\n",
    "        if playerState[1]:\n",
    "            if policyMap[playerState]:\n",
    "                x11.append(playerState[2] - 1)\n",
    "                y11.append(playerState[0] - 11)\n",
    "            else:\n",
    "                x12.append(playerState[2] - 1)\n",
    "                y12.append(playerState[0] - 11)\n",
    "        else:\n",
    "            if policyMap[playerState]:\n",
    "                x21.append(playerState[2] - 1)\n",
    "                y21.append(playerState[0] - 11)\n",
    "            else:\n",
    "                x22.append(playerState[2] - 1)\n",
    "                y22.append(playerState[0] - 11)\n",
    "\n",
    "    plt.figure(0)\n",
    "    plt.title('With Usable Ace')\n",
    "    plt.scatter(x11, y11, color='red')\n",
    "    plt.scatter(x12, y12, color='blue')\n",
    "    plt.xticks(range(10), [ 'A', '2', '3', '4', '5', '6', '7', '8', '9', '10' ])\n",
    "    plt.yticks(range(11), [ '11', '12', '13', '14', '15', '16', '17', '18', '19', '20', '21' ])\n",
    "\n",
    "    plt.figure(1)\n",
    "    plt.title('Without Usable Ace')\n",
    "    plt.scatter(x21, y21, color='red')\n",
    "    plt.scatter(x22, y22, color='blue')\n",
    "    plt.xticks(range(10), [ 'A', '2', '3', '4', '5', '6', '7', '8', '9', '10' ])\n",
    "    plt.yticks(range(11), [ '11', '12', '13', '14', '15', '16', '17', '18', '19', '20', '21' ])\n",
    "\n",
    "    plt.show()\n",
    "\n",
    "PerformMonteCarloES()"
   ]
  },
  {
   "cell_type": "markdown",
   "metadata": {},
   "source": [
    "![monte_carlo_optimal_policy.png](./img/monte_carlo_optimal_policy.png)"
   ]
  },
  {
   "cell_type": "code",
   "execution_count": null,
   "metadata": {},
   "outputs": [],
   "source": []
  }
 ],
 "metadata": {
  "kernelspec": {
   "display_name": "Python 3",
   "language": "python",
   "name": "python3"
  },
  "language_info": {
   "codemirror_mode": {
    "name": "ipython",
    "version": 3
   },
   "file_extension": ".py",
   "mimetype": "text/x-python",
   "name": "python",
   "nbconvert_exporter": "python",
   "pygments_lexer": "ipython3",
   "version": "3.7.3"
  }
 },
 "nbformat": 4,
 "nbformat_minor": 4
}
